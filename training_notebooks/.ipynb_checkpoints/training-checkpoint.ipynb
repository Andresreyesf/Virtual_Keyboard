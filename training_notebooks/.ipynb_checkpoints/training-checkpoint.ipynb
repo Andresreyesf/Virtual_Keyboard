{
 "cells": [
  {
   "cell_type": "code",
   "execution_count": null,
   "metadata": {},
   "outputs": [],
   "source": [
    "import os\n",
    "os.environ[\"CUDA_VISIBLE_DEVICES\"]=\"0\""
   ]
  },
  {
   "cell_type": "code",
   "execution_count": null,
   "metadata": {
    "colab": {
     "base_uri": "https://localhost:8080/",
     "height": 34
    },
    "colab_type": "code",
    "executionInfo": {
     "elapsed": 6820,
     "status": "ok",
     "timestamp": 1593034748196,
     "user": {
      "displayName": "Andres Reyes Fernandez",
      "photoUrl": "https://lh3.googleusercontent.com/a-/AOh14Gi4VgzgWiPVXFm23NwAeYVzTNeMdk-qxbBdehRqBw=s64",
      "userId": "12165029122625964687"
     },
     "user_tz": 300
    },
    "id": "9YpbENxiMrn5",
    "outputId": "bc940f3e-f686-4983-e69e-e251b6579e51"
   },
   "outputs": [],
   "source": [
    "import numpy as np\n",
    "from matplotlib import pyplot as plt\n",
    "import tensorflow as tf\n",
    "from keras.backend.tensorflow_backend import set_session\n",
    "import keras\n",
    "from keras.callbacks import ModelCheckpoint\n",
    "from keras.models import Sequential\n",
    "from keras.layers import Dense, Dropout, LSTM\n",
    "# from keras.callbacks import *"
   ]
  },
  {
   "cell_type": "code",
   "execution_count": null,
   "metadata": {},
   "outputs": [],
   "source": [
    "config = tf.ConfigProto()\n",
    "config.gpu_options.per_process_gpu_memory_fraction = 0.2\n",
    "set_session(tf.Session(config=config))"
   ]
  },
  {
   "cell_type": "markdown",
   "metadata": {
    "colab_type": "text",
    "id": "UQnl8HReLptS"
   },
   "source": [
    "## LSTM to detect voluntary blinks\n"
   ]
  },
  {
   "cell_type": "markdown",
   "metadata": {},
   "source": [
    "### Dataset"
   ]
  },
  {
   "cell_type": "code",
   "execution_count": null,
   "metadata": {},
   "outputs": [],
   "source": [
    "dataset = np.load(f'dataset/dataset.npy', allow_pickle=True).item()\n",
    "x_train = dataset['x_train']\n",
    "y_train = dataset['y_train']\n",
    "x_test = dataset['x_test']\n",
    "y_test = dataset['y_test']"
   ]
  },
  {
   "cell_type": "markdown",
   "metadata": {},
   "source": [
    "### Architecture"
   ]
  },
  {
   "cell_type": "code",
   "execution_count": null,
   "metadata": {},
   "outputs": [],
   "source": [
    "train_data = {}\n",
    "train_data['name'] = 'train_1_orig'\n",
    "train_data['model'] = [('lstm',256),('dropout',0.1),('lstm',128),('dense','softmax',5)]"
   ]
  },
  {
   "cell_type": "code",
   "execution_count": null,
   "metadata": {
    "colab": {},
    "colab_type": "code",
    "id": "vCYbsAhyP8y-"
   },
   "outputs": [],
   "source": [
    "model = Sequential()\n",
    "\n",
    "for i, layer in enumerate(train_data['model']):\n",
    "    if layer[0]=='lstm':\n",
    "        if i==0:\n",
    "            model.add(LSTM(units=layer[1], return_sequences=True, input_shape=(x_train.shape[1],1)))\n",
    "        else:\n",
    "            model.add(LSTM(units=layer[1]))\n",
    "    elif layer[0]=='dropout':\n",
    "        model.add(Dropout(layer[1]))\n",
    "    elif layer[0]=='dense':             \n",
    "        model.add(Dense(layer[2], activation=layer[1]))\n",
    "\n",
    "mc_val = ModelCheckpoint(f'models/{train_data[\"name\"]}.h5', monitor='val_accuracy', mode='max', verbose = 1, save_best_only=True)  #Save best model accuracy\n",
    "\n",
    "model.compile(loss='categorical_crossentropy',optimizer='Adam',metrics=['accuracy'])\n",
    "model.build()"
   ]
  },
  {
   "cell_type": "code",
   "execution_count": null,
   "metadata": {},
   "outputs": [],
   "source": [
    "model.summary()"
   ]
  },
  {
   "cell_type": "markdown",
   "metadata": {},
   "source": [
    "### Training"
   ]
  },
  {
   "cell_type": "code",
   "execution_count": null,
   "metadata": {
    "colab": {},
    "colab_type": "code",
    "id": "FMYSI4goQJVS"
   },
   "outputs": [],
   "source": [
    "class_weight = {0: 4 , 1: 4, 2: 4, 3: 1}\n",
    "history = model.fit(x_train,y_train,validation_split = 0.1,epochs = 100,batch_size = 64, callbacks=[mc_val])"
   ]
  },
  {
   "cell_type": "markdown",
   "metadata": {},
   "source": [
    "### Save the model"
   ]
  },
  {
   "cell_type": "code",
   "execution_count": null,
   "metadata": {
    "colab": {},
    "colab_type": "code",
    "id": "a1LVgKlTUh2u"
   },
   "outputs": [],
   "source": [
    "model.save(f'models/{train_data[\"name\"]}.h5')"
   ]
  },
  {
   "cell_type": "markdown",
   "metadata": {},
   "source": [
    "### Curves and metrics"
   ]
  },
  {
   "cell_type": "code",
   "execution_count": null,
   "metadata": {
    "colab": {
     "base_uri": "https://localhost:8080/",
     "height": 71
    },
    "colab_type": "code",
    "executionInfo": {
     "elapsed": 1439,
     "status": "ok",
     "timestamp": 1588868731869,
     "user": {
      "displayName": "Andres Reyes Fernandez",
      "photoUrl": "https://lh3.googleusercontent.com/a-/AOh14Gi4VgzgWiPVXFm23NwAeYVzTNeMdk-qxbBdehRqBw=s64",
      "userId": "12165029122625964687"
     },
     "user_tz": 300
    },
    "id": "RbmcZkHFUr-O",
    "outputId": "c036e820-97bd-449f-acd0-4835ca78785e"
   },
   "outputs": [],
   "source": [
    "plt.clf()\n",
    "loss = history.history['loss']\n",
    "val_loss = history.history['val_loss']\n",
    "\n",
    "plt.clf()\n",
    "acc = history.history['accuracy']\n",
    "val_acc = history.history['val_accuracy']"
   ]
  },
  {
   "cell_type": "code",
   "execution_count": null,
   "metadata": {
    "colab": {
     "base_uri": "https://localhost:8080/",
     "height": 329
    },
    "colab_type": "code",
    "executionInfo": {
     "elapsed": 1896,
     "status": "ok",
     "timestamp": 1588868736903,
     "user": {
      "displayName": "Andres Reyes Fernandez",
      "photoUrl": "https://lh3.googleusercontent.com/a-/AOh14Gi4VgzgWiPVXFm23NwAeYVzTNeMdk-qxbBdehRqBw=s64",
      "userId": "12165029122625964687"
     },
     "user_tz": 300
    },
    "id": "RQDrDiX_AYU_",
    "outputId": "9b1139e6-11fd-4ade-a972-63b6a4c41753"
   },
   "outputs": [],
   "source": [
    "window_size = 5\n",
    "i = 0\n",
    "loss_p = []\n",
    "valoss_p = []\n",
    "acc_p = []\n",
    "valacc_p = []\n",
    "while i < len(loss) - window_size + 1:\n",
    "    l_window = loss[i : i + window_size]\n",
    "    window_avr  = sum(l_window) / window_size\n",
    "    loss_p.append(window_avr)\n",
    "    lv_window = val_loss[i : i + window_size]\n",
    "    window_avr1  = sum(lv_window) / window_size\n",
    "    valoss_p.append(window_avr1)\n",
    "\n",
    "    a_window = acc[i : i + window_size]\n",
    "    window_avr2  = sum(a_window) / window_size\n",
    "    acc_p.append(window_avr2)\n",
    "    av_window = val_acc[i : i + window_size]\n",
    "    window_avr3  = sum(av_window) / window_size\n",
    "    valacc_p.append(window_avr3)\n",
    "    \n",
    "    i += 1\n",
    "print(len(loss_p))\n",
    "print(len(acc_p))\n",
    "epochs = range(1, len(loss_p) + 1) \n",
    "plt.plot(epochs, loss_p, 'g', label='Training loss')\n",
    "plt.plot(epochs, valoss_p, 'y', label='Validation loss')\n",
    "plt.title('Training_Validation loss AVR')\n",
    "plt.xlabel('Epochs')\n",
    "plt.ylabel('Loss')\n",
    "plt.legend()\n",
    "plt.show()"
   ]
  },
  {
   "cell_type": "code",
   "execution_count": null,
   "metadata": {
    "colab": {
     "base_uri": "https://localhost:8080/",
     "height": 295
    },
    "colab_type": "code",
    "executionInfo": {
     "elapsed": 1822,
     "status": "ok",
     "timestamp": 1588868757130,
     "user": {
      "displayName": "Andres Reyes Fernandez",
      "photoUrl": "https://lh3.googleusercontent.com/a-/AOh14Gi4VgzgWiPVXFm23NwAeYVzTNeMdk-qxbBdehRqBw=s64",
      "userId": "12165029122625964687"
     },
     "user_tz": 300
    },
    "id": "JhcEY6GhCEqH",
    "outputId": "2d106767-73f8-402a-8273-d5a6586429c3"
   },
   "outputs": [],
   "source": [
    "plt.plot(epochs, acc_p, 'g', label='Training acc')\n",
    "plt.plot(epochs, valacc_p, 'y', label='Validation acc')\n",
    "plt.title('Training_Validation acc AVR')\n",
    "plt.xlabel('Epochs')\n",
    "plt.ylabel('Accuracy')\n",
    "plt.legend()\n",
    "plt.show()"
   ]
  },
  {
   "cell_type": "code",
   "execution_count": null,
   "metadata": {},
   "outputs": [],
   "source": [
    "train_data['loss_train'] = np.array(loss_p)\n",
    "train_data['loss_val'] = np.array(valoss_p)\n",
    "train_data['acc_train'] = np.array(acc_p)\n",
    "train_data['acc_val'] = np.array(valacc_p)"
   ]
  },
  {
   "cell_type": "code",
   "execution_count": null,
   "metadata": {
    "colab": {
     "base_uri": "https://localhost:8080/",
     "height": 524
    },
    "colab_type": "code",
    "executionInfo": {
     "elapsed": 10039,
     "status": "ok",
     "timestamp": 1593038818137,
     "user": {
      "displayName": "Andres Reyes Fernandez",
      "photoUrl": "https://lh3.googleusercontent.com/a-/AOh14Gi4VgzgWiPVXFm23NwAeYVzTNeMdk-qxbBdehRqBw=s64",
      "userId": "12165029122625964687"
     },
     "user_tz": 300
    },
    "id": "6ChL56msU7IU",
    "outputId": "e7a11fc2-7f5e-4070-ef34-89c5fc02cd23"
   },
   "outputs": [],
   "source": [
    "#############Making predictions with our model#############\n",
    "y_pred = model.predict(x_test)\n",
    "ypred = np.argmax(y_pred, axis = 1)[:450] \n",
    "ytest = np.argmax(y_test,axis = 1)[:450] \n",
    "\n",
    "# print(ypred) \n",
    "# print(ytest)\n",
    "# print(\"The last array: actual Y_values!\")\n",
    "\n",
    "###############ROC AUC binary classif#################\n",
    "auc_val = roc_auc_score(y_test, y_pred, multi_class=\"ovr\",average=\"macro\")\n",
    "print('AUC')\n",
    "print(auc_val)\n",
    "train_data['auc'] = auc_val\n"
   ]
  },
  {
   "cell_type": "code",
   "execution_count": null,
   "metadata": {
    "colab": {
     "base_uri": "https://localhost:8080/",
     "height": 119
    },
    "colab_type": "code",
    "executionInfo": {
     "elapsed": 1063,
     "status": "ok",
     "timestamp": 1588875340005,
     "user": {
      "displayName": "Andres Reyes Fernandez",
      "photoUrl": "https://lh3.googleusercontent.com/a-/AOh14Gi4VgzgWiPVXFm23NwAeYVzTNeMdk-qxbBdehRqBw=s64",
      "userId": "12165029122625964687"
     },
     "user_tz": 300
    },
    "id": "WWtwZByPbFJN",
    "outputId": "8db54f60-c3dc-4ecc-f691-f3767d5c23c0"
   },
   "outputs": [],
   "source": [
    "print(len(ypred))\n",
    "tp_blnk = 0 #True Positive blink\n",
    "fn = 0 #FalseNegative\n",
    "fp = 0 #FalsePositive\n",
    "lbel = 4\n",
    "for i in range(len(ypred)):\n",
    "  if(ytest[i]==lbel and ypred[i]==lbel):\n",
    "    tp_blnk+=1   \n",
    "  elif(ytest[i]==lbel and ypred[i]!=lbel):\n",
    "    fn+=1\n",
    "  elif(ytest[i]!=lbel and ypred[i]==lbel):\n",
    "    fp+=1     \n",
    "print(fn)\n",
    "print(fp)\n",
    "print(tp_blnk)\n",
    "prec = tp_blnk/(tp_blnk+fp)\n",
    "recal = tp_blnk/(tp_blnk+fn)\n",
    "print(\"Precision: \", prec)\n",
    "print(\"Recal: \", recal)\n",
    "\n",
    "train_data['precision'] = prec\n",
    "train_data['recall'] = recal"
   ]
  },
  {
   "cell_type": "code",
   "execution_count": null,
   "metadata": {},
   "outputs": [],
   "source": [
    "np.save(f'curves/{train_data[\"name\"]}.npy',train_data)"
   ]
  }
 ],
 "metadata": {
  "accelerator": "GPU",
  "colab": {
   "collapsed_sections": [],
   "name": "LSTM_Tesis.ipynb",
   "provenance": []
  },
  "kernelspec": {
   "display_name": "Python 3",
   "language": "python",
   "name": "python3"
  },
  "language_info": {
   "codemirror_mode": {
    "name": "ipython",
    "version": 3
   },
   "file_extension": ".py",
   "mimetype": "text/x-python",
   "name": "python",
   "nbconvert_exporter": "python",
   "pygments_lexer": "ipython3",
   "version": "3.6.12"
  }
 },
 "nbformat": 4,
 "nbformat_minor": 4
}
